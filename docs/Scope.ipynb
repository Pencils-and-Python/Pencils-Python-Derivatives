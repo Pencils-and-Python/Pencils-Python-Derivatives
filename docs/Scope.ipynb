{
 "cells": [
  {
   "metadata": {},
   "cell_type": "markdown",
   "source": [
    "# 🧮 Problem Set: Differentiation Rules (Pencil & Python)\n",
    "This notebook explores the **Product Rule**, **Quotient Rule**, and **Chain Rule** — solving each problem both by hand ✏️ and with Python 🐍 (using SymPy for symbolic differentiation).\n",
    "\n",
    "---"
   ],
   "id": "71142644171c1fd0"
  },
  {
   "metadata": {},
   "cell_type": "markdown",
   "source": [
    "## 📌 Problem 1 – Product Rule\n",
    "\n",
    "Differentiate the following function:\n",
    "\n",
    "$$\n",
    "f(x) = (3x^2 + 2x)(\\sin x)\n",
    "$$\n",
    "\n",
    "Use the product rule:\n",
    "\n",
    "$$\n",
    "\\frac{d}{dx}[u(x)v(x)] = u'(x)v(x) + u(x)v'(x)\n",
    "$$\n",
    "\n",
    "---\n",
    "\n",
    "## 📌 Problem 2 – Quotient Rule\n",
    "\n",
    "Differentiate:\n",
    "\n",
    "$$\n",
    "g(x) = \\frac{x^2 + 1}{x \\cdot \\cos x}\n",
    "$$\n",
    "\n",
    "Use the quotient rule:\n",
    "\n",
    "$$\n",
    "\\frac{d}{dx}\\left[\\frac{u}{v}\\right] = \\frac{u'v - uv'}{v^2}\n",
    "$$\n",
    "\n",
    "---\n",
    "\n",
    "## 📌 Problem 3 – Chain Rule\n",
    "\n",
    "Differentiate:\n",
    "\n",
    "$$\n",
    "h(x) = e^{2x^2 + 5}\n",
    "$$\n",
    "\n",
    "Use the chain rule:\n",
    "\n",
    "$$\n",
    "\\frac{d}{dx}[f(g(x))] = f'(g(x)) \\cdot g'(x)\n",
    "$$\n",
    "\n",
    "---\n",
    "\n",
    "You can solve each problem:\n",
    "- ✏️ By hand (with structured steps)\n",
    "- 🐍 With Python using `sympy.diff()` to verify or visualize\n",
    "\n",
    "This is part of the **Pencils & Python** series — combining math fundamentals with practical Python workflows."
   ],
   "id": "b3a88f94fb074f2d"
  },
  {
   "metadata": {},
   "cell_type": "code",
   "outputs": [],
   "execution_count": null,
   "source": "",
   "id": "73e97525c78ceee8"
  }
 ],
 "metadata": {
  "kernelspec": {
   "display_name": "Python 3",
   "language": "python",
   "name": "python3"
  },
  "language_info": {
   "codemirror_mode": {
    "name": "ipython",
    "version": 2
   },
   "file_extension": ".py",
   "mimetype": "text/x-python",
   "name": "python",
   "nbconvert_exporter": "python",
   "pygments_lexer": "ipython2",
   "version": "2.7.6"
  }
 },
 "nbformat": 4,
 "nbformat_minor": 5
}
