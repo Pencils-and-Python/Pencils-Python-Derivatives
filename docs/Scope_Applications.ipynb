{
 "cells": [
  {
   "metadata": {},
   "cell_type": "markdown",
   "source": [
    "## 🧩 Product Rule – Financial Application\n",
    "\n",
    "The **product rule** appears frequently when modeling expressions where **two financial quantities multiply** — both of which vary.\n",
    "\n",
    "### 📍 Use Case: Option Pricing – Black-Scholes Model\n",
    "\n",
    "In the Black-Scholes formula:\n",
    "\n",
    "\\[\n",
    "C = S \\cdot N(d_1) - K e^{-rT} N(d_2)\n",
    "\\]\n",
    "\n",
    "We often need to compute **sensitivities** (the Greeks). When differentiating \\( S \\cdot N(d_1) \\), both \\( S \\) and \\( d_1 \\) depend on time and volatility — so we use the **product rule** to differentiate it with respect to \\( S \\), \\( t \\), or \\( \\sigma \\).\n",
    "\n",
    "This same principle shows up when:\n",
    "- Hedging a portfolio with dynamically changing positions\n",
    "- Computing delta exposure across multi-asset products\n",
    "\n",
    "---\n"
   ],
   "id": "aac7794f865f1b13"
  },
  {
   "metadata": {},
   "cell_type": "markdown",
   "source": [
    "## 🔄 Quotient Rule – Financial Application\n",
    "\n",
    "The **quotient rule** is common when dealing with **performance ratios** or **leverage measures**.\n",
    "\n",
    "### 📍 Use Case: Sharpe Ratio Sensitivity\n",
    "\n",
    "The **Sharpe ratio** is defined as:\n",
    "\n",
    "\\[\n",
    "SR = \\frac{\\mu - r_f}{\\sigma}\n",
    "\\]\n",
    "\n",
    "Where:\n",
    "- \\( \\mu \\) = portfolio return\n",
    "- \\( r_f \\) = risk-free rate\n",
    "- \\( \\sigma \\) = portfolio standard deviation\n",
    "\n",
    "When analyzing **how the Sharpe ratio changes** as volatility or return shifts, you apply the **quotient rule** to find the rate of change of this performance metric.\n",
    "\n",
    "It also appears when analyzing:\n",
    "- Option-to-stock price ratios\n",
    "- Margin/leverage changes\n",
    "- Capital efficiency ratios\n",
    "\n",
    "---\n"
   ],
   "id": "91072b683abf4cb9"
  },
  {
   "metadata": {},
   "cell_type": "markdown",
   "source": [
    "## 🔗 Chain Rule – Financial Application\n",
    "\n",
    "The **chain rule** is essential in financial modeling when one variable depends on another that also varies — which happens **all the time** in pricing derivatives.\n",
    "\n",
    "### 📍 Use Case: Option Greeks\n",
    "\n",
    "In the Black-Scholes model:\n",
    "\n",
    "\\[\n",
    "C = S \\cdot N(d_1) - K e^{-rT} N(d_2)\n",
    "\\]\n",
    "\n",
    "But \\( d_1 \\) is defined as:\n",
    "\n",
    "\\[\n",
    "d_1 = \\frac{\\ln(S/K) + (r + \\sigma^2 / 2)T}{\\sigma \\sqrt{T}}\n",
    "\\]\n",
    "\n",
    "To compute **delta** (how the option price changes with the stock price), you must apply the **chain rule** — because you're differentiating a function \\( N(d_1) \\) that itself contains other variables.\n",
    "\n",
    "The chain rule also shows up in:\n",
    "- Monte Carlo simulations (composed stochastic processes)\n",
    "- Interest rate models (e.g., Vasicek or CIR)\n",
    "- Multi-layered risk models with nested functions\n",
    "\n",
    "---\n"
   ],
   "id": "f9c1c189b16c369a"
  },
  {
   "metadata": {},
   "cell_type": "code",
   "outputs": [],
   "execution_count": null,
   "source": "",
   "id": "8d2f5907cc64873a"
  }
 ],
 "metadata": {
  "kernelspec": {
   "display_name": "Python 3",
   "language": "python",
   "name": "python3"
  },
  "language_info": {
   "codemirror_mode": {
    "name": "ipython",
    "version": 2
   },
   "file_extension": ".py",
   "mimetype": "text/x-python",
   "name": "python",
   "nbconvert_exporter": "python",
   "pygments_lexer": "ipython2",
   "version": "2.7.6"
  }
 },
 "nbformat": 4,
 "nbformat_minor": 5
}
