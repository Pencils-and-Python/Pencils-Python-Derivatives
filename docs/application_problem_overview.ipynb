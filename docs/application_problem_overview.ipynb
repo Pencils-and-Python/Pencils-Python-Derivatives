{
 "cells": [
  {
   "metadata": {},
   "cell_type": "markdown",
   "source": [
    "# ✍️ Application Problems for Derivative Rules\n",
    "**Series: Pencils & Python**\n",
    "\n",
    "Each post will feature a derivative rule (Product, Quotient, Chain), explored through:\n",
    "- A **finance** application 🏦\n",
    "- A **civil/environmental engineering** application 🚰\n",
    "\n",
    "---\n",
    "\n",
    "## 🧮 Product Rule Applications\n",
    "\n",
    "### 🏦 Finance: Revenue Optimization\n",
    "\n",
    "**Scenario**:\n",
    "A company sells a product at a price `p(x)` that depends on the number of units sold `x`.\n",
    "The total revenue is given by:\n",
    "\n"
   ],
   "id": "a5f6a268c876c3ee"
  },
  {
   "metadata": {},
   "cell_type": "markdown",
   "source": [
    "$$\n",
    "R(x) = p(x) * x\n",
    "$$"
   ],
   "id": "b7d1973a6079084a"
  },
  {
   "metadata": {},
   "cell_type": "markdown",
   "source": [
    "\n",
    "**Example**:\n",
    "Let `p(x) = 100 - 0.5x`, so `R(x) = x(100 - 0.5x)`\n",
    "\n",
    "**Goal**:\n",
    "Use the product rule to compute `R'(x)` and understand how revenue changes as more units are sold.\n",
    "Implement and plot this in Python using `SymPy`.\n",
    "\n",
    "---\n",
    "\n",
    "### 🚰 Civil/Environmental: Pollutant Load in Stormwater Runoff\n",
    "\n",
    "**Scenario**:\n",
    "Pollutant load `L(t)` is the product of flow rate `Q(t)` and concentration `C(t)`:\n",
    "\n"
   ],
   "id": "b095f4981ad76418"
  },
  {
   "metadata": {},
   "cell_type": "markdown",
   "source": [
    "$$\n",
    "L(t) = Q(t) * C(t)\n",
    "$$"
   ],
   "id": "e8dfdc217489f761"
  },
  {
   "metadata": {},
   "cell_type": "markdown",
   "source": [
    "\n",
    "**Example**:\n",
    "Let `Q(t) = 3t` and `C(t) = 10 - 0.2t`\n",
    "\n",
    "**Goal**:\n",
    "Use the product rule to find how pollutant load changes during a storm event.\n",
    "Use Python to compute and graph `dL/dt`.\n",
    "\n",
    "---\n",
    "\n",
    "## ➗ Quotient Rule Applications\n",
    "\n",
    "### 🏦 Finance: Return on Equity (ROE)\n",
    "\n",
    "**Scenario**:\n",
    "Return on equity is defined as:\n",
    "\n"
   ],
   "id": "a048f34a3e793525"
  },
  {
   "metadata": {},
   "cell_type": "markdown",
   "source": [
    "$$\n",
    "ROE(t) = \\frac {Net_Income(t)}{Equity(t)}\n",
    "$$"
   ],
   "id": "7ae5c532fbdba690"
  },
  {
   "metadata": {},
   "cell_type": "markdown",
   "source": [
    "\n",
    "**Example**:\n",
    "Let `Net_Income = 200 + 5t`, `Equity = 1000 + 10t`\n",
    "\n",
    "**Goal**:\n",
    "Use the quotient rule to compute `ROE'(t)` and analyze trends in profitability.\n",
    "Visualize with Python.\n",
    "\n",
    "---\n",
    "\n",
    "### 🚧 Civil Engineering: Average Flow per User\n",
    "\n",
    "**Scenario**:\n",
    "Average daily flow per person is modeled as:\n",
    "\n"
   ],
   "id": "315106e3b55850e6"
  },
  {
   "metadata": {},
   "cell_type": "markdown",
   "source": [
    "$$\n",
    "A(t) = \\frac {Total_Flow(t)}{Population(t)}\n",
    "$$"
   ],
   "id": "5a1e8f709f024d83"
  },
  {
   "metadata": {},
   "cell_type": "markdown",
   "source": [
    "\n",
    "**Example**:\n",
    "Let `Flow = 1.2e6 + 5000t`, `Population = 10,000 + 50t`\n",
    "\n",
    "**Goal**:\n",
    "Use the quotient rule to compute `dA/dt` and determine how efficiency changes over time.\n",
    "Graph results in Python.\n",
    "\n",
    "---\n",
    "\n",
    "## 🔗 Chain Rule Applications\n",
    "\n",
    "### 🏦 Finance: Compound Interest with a Variable Rate\n",
    "\n",
    "**Scenario**:\n",
    "Investment balance over time with a variable interest rate:\n",
    "\n"
   ],
   "id": "4aee8cc1db132f4e"
  },
  {
   "metadata": {},
   "cell_type": "markdown",
   "source": [
    "$$\n",
    "B(t) = P * e^{r(t) \\cdot t}\n",
    "$$"
   ],
   "id": "2864cdbe817ad51a"
  },
  {
   "metadata": {},
   "cell_type": "markdown",
   "source": [
    "\n",
    "**Example**:\n",
    "Let `r(t) = 0.05 + 0.01 * sin(t)`\n",
    "\n",
    "**Goal**:\n",
    "Use the chain rule to compute `dB/dt` and explore how rate fluctuations affect growth.\n",
    "Implement using `SymPy`.\n",
    "\n",
    "---\n",
    "\n",
    "### 🌊 Civil/Environmental: Contaminant Spread in Soil\n",
    "\n",
    "**Scenario**:\n",
    "Concentration `C(t)` depends on depth `d(t)`, which varies with time:\n",
    "\n"
   ],
   "id": "a1f594878927a17"
  },
  {
   "metadata": {},
   "cell_type": "markdown",
   "source": [
    "$$\n",
    "C(t) = f(d(t))\n",
    "$$\n",
    "$$\n",
    "where,\n",
    "$$\n",
    "$$\n",
    "d(t) = sqrt(t)\n",
    "$$\n",
    "$$\n",
    "C(d) = e^{-d}\n",
    "$$"
   ],
   "id": "c02bfdb48dd27d60"
  },
  {
   "metadata": {},
   "cell_type": "markdown",
   "source": [
    "\n",
    "**Goal**:\n",
    "Use the chain rule to compute `dC/dt = dC/dd * dd/dt`.\n",
    "Model and plot how contaminant concentration changes with time.\n",
    "\n",
    "---\n",
    "\n",
    "## 🔁 Bonus Engineering Ideas (for future posts)\n",
    "\n",
    "- **Product Rule**: Energy = force × distance, changing over time\n",
    "- **Quotient Rule**: Flow velocity = discharge / area (both may vary)\n",
    "- **Chain Rule**: Head loss as a function of pressure depth changing with flow rate\n",
    "\n",
    "---\n",
    "\n",
    "Use these problems to bridge theory and real-world context in your **Pencils & Python** blog series!\n"
   ],
   "id": "ca2eb51c1d5b2033"
  },
  {
   "metadata": {},
   "cell_type": "markdown",
   "source": "",
   "id": "2bd994e8840b3c"
  }
 ],
 "metadata": {
  "kernelspec": {
   "display_name": "Python 3",
   "language": "python",
   "name": "python3"
  },
  "language_info": {
   "codemirror_mode": {
    "name": "ipython",
    "version": 2
   },
   "file_extension": ".py",
   "mimetype": "text/x-python",
   "name": "python",
   "nbconvert_exporter": "python",
   "pygments_lexer": "ipython2",
   "version": "2.7.6"
  }
 },
 "nbformat": 4,
 "nbformat_minor": 5
}
