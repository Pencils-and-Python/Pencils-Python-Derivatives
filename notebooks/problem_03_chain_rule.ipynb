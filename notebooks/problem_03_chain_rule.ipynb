{
 "cells": [
  {
   "metadata": {},
   "cell_type": "markdown",
   "source": [
    "## 📌 Problem 3 – Chain Rule\n",
    "\n",
    "Differentiate:\n",
    "\n",
    "$$\n",
    "h(x) = e^{2x^2 + 5}\n",
    "$$\n",
    "\n",
    "Use the chain rule:\n",
    "\n",
    "$$\n",
    "\\frac{d}{dx}[f(g(x))] = f'(g(x)) \\cdot g'(x)\n",
    "$$\n",
    "\n",
    "---"
   ],
   "id": "f83100941d56fe09"
  },
  {
   "metadata": {
    "ExecuteTime": {
     "end_time": "2025-04-02T05:35:22.983089Z",
     "start_time": "2025-04-02T05:35:22.552461Z"
    }
   },
   "cell_type": "code",
   "source": [
    "import sympy as sp\n",
    "\n",
    "x = sp.symbols('x')\n",
    "expr = sp.E**(2*x**2 + 5)\n",
    "derivative = sp.diff(expr, x)\n",
    "\n",
    "print(f\"f(x) = \", expr)\n",
    "print(f\"f'(x) = \", derivative)"
   ],
   "id": "26fc5dfa24435ba0",
   "outputs": [
    {
     "name": "stdout",
     "output_type": "stream",
     "text": [
      "f(x) =  exp(2*x**2 + 5)\n",
      "f'(x) =  4*x*exp(2*x**2 + 5)\n"
     ]
    }
   ],
   "execution_count": 1
  },
  {
   "metadata": {},
   "cell_type": "code",
   "outputs": [],
   "execution_count": null,
   "source": "",
   "id": "c5a5750c52d2cd8"
  }
 ],
 "metadata": {
  "kernelspec": {
   "display_name": "Python 3",
   "language": "python",
   "name": "python3"
  },
  "language_info": {
   "codemirror_mode": {
    "name": "ipython",
    "version": 2
   },
   "file_extension": ".py",
   "mimetype": "text/x-python",
   "name": "python",
   "nbconvert_exporter": "python",
   "pygments_lexer": "ipython2",
   "version": "2.7.6"
  }
 },
 "nbformat": 4,
 "nbformat_minor": 5
}
