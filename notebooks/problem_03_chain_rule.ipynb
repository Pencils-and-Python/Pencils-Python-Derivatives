{
 "cells": [
  {
   "metadata": {},
   "cell_type": "markdown",
   "source": [
    "## 📌 Problem 3 – Chain Rule\n",
    "\n",
    "Differentiate:\n",
    "\n",
    "$$\n",
    "h(x) = e^{2x^2 + 5}\n",
    "$$\n",
    "\n",
    "Use the chain rule:\n",
    "\n",
    "$$\n",
    "\\frac{d}{dx}[f(g(x))] = f'(g(x)) \\cdot g'(x)\n",
    "$$\n",
    "\n",
    "---"
   ],
   "id": "f83100941d56fe09"
  },
  {
   "metadata": {},
   "cell_type": "code",
   "outputs": [],
   "execution_count": null,
   "source": "",
   "id": "26fc5dfa24435ba0"
  }
 ],
 "metadata": {
  "kernelspec": {
   "display_name": "Python 3",
   "language": "python",
   "name": "python3"
  },
  "language_info": {
   "codemirror_mode": {
    "name": "ipython",
    "version": 2
   },
   "file_extension": ".py",
   "mimetype": "text/x-python",
   "name": "python",
   "nbconvert_exporter": "python",
   "pygments_lexer": "ipython2",
   "version": "2.7.6"
  }
 },
 "nbformat": 4,
 "nbformat_minor": 5
}
