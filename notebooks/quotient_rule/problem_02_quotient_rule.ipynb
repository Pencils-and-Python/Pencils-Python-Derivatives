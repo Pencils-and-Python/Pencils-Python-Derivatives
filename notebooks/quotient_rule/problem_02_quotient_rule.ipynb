{
 "cells": [
  {
   "metadata": {},
   "cell_type": "markdown",
   "source": [
    "## 📌 Problem 2 – Quotient Rule\n",
    "\n",
    "Differentiate:\n",
    "\n",
    "$$\n",
    "g(x) = \\frac{x^2 + 1}{x \\cdot \\cos x}\n",
    "$$\n",
    "\n",
    "Use the quotient rule:\n",
    "\n",
    "$$\n",
    "\\frac{d}{dx}\\left[\\frac{u}{v}\\right] = \\frac{u'v - uv'}{v^2}\n",
    "$$\n",
    "\n",
    "---"
   ],
   "id": "2097bd70b90b3aa0"
  },
  {
   "metadata": {
    "ExecuteTime": {
     "end_time": "2025-04-02T04:14:30.832212Z",
     "start_time": "2025-04-02T04:14:30.391032Z"
    }
   },
   "cell_type": "code",
   "source": [
    "import sympy as sp\n",
    "\n",
    "x = sp.symbols('x')\n",
    "expr = ( x**2 + 1 ) / (x * sp.cos(x) )\n",
    "derivative = sp.diff(expr, x)\n",
    "\n",
    "print(f\"f(x) = \", expr)\n",
    "print(f\"f'(x) = \", derivative)\n"
   ],
   "id": "a0b8ad745e9205f0",
   "outputs": [
    {
     "name": "stdout",
     "output_type": "stream",
     "text": [
      "f(x) =  (x**2 + 1)/(x*cos(x))\n",
      "f'(x) =  2/cos(x) + (x**2 + 1)*sin(x)/(x*cos(x)**2) - (x**2 + 1)/(x**2*cos(x))\n"
     ]
    }
   ],
   "execution_count": 1
  },
  {
   "metadata": {},
   "cell_type": "markdown",
   "source": [
    "## Explanation\n",
    "The hand calculation yielded the following:\n",
    "$$\n",
    "\\frac {2x^2 \\cdot cos x - (x^2 + 1) \\cdot (cos x - x \\cdot sin x)}{(x^2 \\cdot cos^2 x)}\n",
    "$$\n",
    "\n",
    "Which differs from the expression provided by python.  What is the reason for this?\n",
    "\n",
    "### Simple Answer....\n",
    "Because it's doing algebraic simplification to break it down into sum-of-terms style. It's not wrong—just rearranged.\n"
   ],
   "id": "438a9b4ae1c671bd"
  },
  {
   "metadata": {},
   "cell_type": "markdown",
   "source": [
    "### Testing, Testing\n",
    "\n",
    "#### Can we test to make sure the hand calculation and sympy are equivalent??\n",
    "\n",
    "#### Yes, we can!!  Let's dive into it!!"
   ],
   "id": "3919b15ba50c1e8c"
  },
  {
   "metadata": {
    "ExecuteTime": {
     "end_time": "2025-04-02T04:52:46.410030Z",
     "start_time": "2025-04-02T04:52:46.386515Z"
    }
   },
   "cell_type": "code",
   "source": [
    "# Define numerator and denominator\n",
    "numerator = x**2 + 1\n",
    "denominator = x * sp.cos(x)\n",
    "f = numerator / denominator\n",
    "\n",
    "# Differentiate without automatic simplification\n",
    "f_prime = sp.diff(f, x)\n",
    "\n",
    "# Use `sp.simplify` carefully only if you want light cleanup\n",
    "# Or use `sp.together` to keep common denominators\n",
    "f_prime_manual_style = sp.together(f_prime)\n",
    "\n",
    "# Display\n",
    "print(\"f(x) = \")\n",
    "sp.pprint(f, use_unicode=True)\n",
    "print(\"\\nf'(x) = \")\n",
    "sp.pprint(f_prime_manual_style, use_unicode=True)"
   ],
   "id": "92f9378f3dd7f1b7",
   "outputs": [
    {
     "name": "stdout",
     "output_type": "stream",
     "text": [
      "f(x) = \n",
      "  2     \n",
      " x  + 1 \n",
      "────────\n",
      "x⋅cos(x)\n",
      "\n",
      "f'(x) = \n",
      "   2            ⎛ 2    ⎞          ⎛ 2    ⎞       \n",
      "2⋅x ⋅cos(x) + x⋅⎝x  + 1⎠⋅sin(x) - ⎝x  + 1⎠⋅cos(x)\n",
      "─────────────────────────────────────────────────\n",
      "                    2    2                       \n",
      "                   x ⋅cos (x)                    \n"
     ]
    }
   ],
   "execution_count": 3
  },
  {
   "metadata": {
    "ExecuteTime": {
     "end_time": "2025-04-02T04:54:55.986025Z",
     "start_time": "2025-04-02T04:54:55.615743Z"
    }
   },
   "cell_type": "code",
   "source": [
    "# manual expression\n",
    "manual_derivative = (2*x**2*sp.cos(x) - (x**2 + 1)*(sp.cos(x) - x*sp.sin(x))) / (x**2 * sp.cos(x)**2)\n",
    "\n",
    "print(\"\\nYour manual version:\")\n",
    "sp.pprint(manual_derivative.simplify(), use_unicode=True)\n",
    "\n",
    "# Check if both expressions are mathematically equivalent:\n",
    "print(\"\\nDo they match?\")\n",
    "print(sp.simplify(f_prime - manual_derivative) == 0)"
   ],
   "id": "4ccc88bb2ac5c8e8",
   "outputs": [
    {
     "name": "stdout",
     "output_type": "stream",
     "text": [
      "\n",
      "Your manual version:\n",
      "   2          ⎛ 2    ⎞                    \n",
      "2⋅x ⋅cos(x) + ⎝x  + 1⎠⋅(x⋅sin(x) - cos(x))\n",
      "──────────────────────────────────────────\n",
      "                 2    2                   \n",
      "                x ⋅cos (x)                \n",
      "\n",
      "Do they match?\n",
      "True\n"
     ]
    }
   ],
   "execution_count": 5
  },
  {
   "metadata": {},
   "cell_type": "code",
   "outputs": [],
   "execution_count": null,
   "source": "",
   "id": "7b7de4624a8879d"
  }
 ],
 "metadata": {
  "kernelspec": {
   "display_name": "Python 3",
   "language": "python",
   "name": "python3"
  },
  "language_info": {
   "codemirror_mode": {
    "name": "ipython",
    "version": 2
   },
   "file_extension": ".py",
   "mimetype": "text/x-python",
   "name": "python",
   "nbconvert_exporter": "python",
   "pygments_lexer": "ipython2",
   "version": "2.7.6"
  }
 },
 "nbformat": 4,
 "nbformat_minor": 5
}
