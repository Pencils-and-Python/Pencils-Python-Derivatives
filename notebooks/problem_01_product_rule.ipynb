{
 "cells": [
  {
   "metadata": {},
   "cell_type": "markdown",
   "source": [
    "## 📌 Problem 1 – Product Rule\n",
    "\n",
    "Differentiate the following function:\n",
    "\n",
    "$$\n",
    "f(x) = (3x^2 + 2x)(\\sin x)\n",
    "$$\n",
    "\n",
    "Use the product rule:\n",
    "\n",
    "$$\n",
    "\\frac{d}{dx}[u(x)v(x)] = u'(x)v(x) + u(x)v'(x)\n",
    "$$\n",
    "\n",
    "---"
   ],
   "id": "c1cfcd29e6ab7bc8"
  },
  {
   "metadata": {
    "ExecuteTime": {
     "end_time": "2025-04-02T04:01:25.391839Z",
     "start_time": "2025-04-02T04:01:24.661991Z"
    }
   },
   "cell_type": "code",
   "source": [
    "import sympy as sp\n",
    "\n",
    "x = sp.symbols('x')\n",
    "expr = ( 3*x**2 + 2*x ) * sp.sin(x)\n",
    "derivative = sp.diff(expr, x)\n",
    "\n",
    "print(f'f(x) = ', expr)\n",
    "print(f\"f'(x) = \", derivative)"
   ],
   "id": "4b800040f590a92e",
   "outputs": [
    {
     "name": "stdout",
     "output_type": "stream",
     "text": [
      "f(x) =  (3*x**2 + 2*x)*sin(x)\n",
      "f'(x) =  (6*x + 2)*sin(x) + (3*x**2 + 2*x)*cos(x)\n"
     ]
    }
   ],
   "execution_count": 1
  }
 ],
 "metadata": {
  "kernelspec": {
   "display_name": "Python 3",
   "language": "python",
   "name": "python3"
  },
  "language_info": {
   "codemirror_mode": {
    "name": "ipython",
    "version": 2
   },
   "file_extension": ".py",
   "mimetype": "text/x-python",
   "name": "python",
   "nbconvert_exporter": "python",
   "pygments_lexer": "ipython2",
   "version": "2.7.6"
  }
 },
 "nbformat": 4,
 "nbformat_minor": 5
}
