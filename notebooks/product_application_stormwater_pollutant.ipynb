{
 "cells": [
  {
   "metadata": {},
   "cell_type": "markdown",
   "source": [
    "# 🧮 Product Rule in Action: Pollutant Load in Stormwater Runoff\n",
    "\n",
    "## 🌧️ Real-World Context\n",
    "\n",
    "In municipal stormwater management, one key metric is **pollutant load** — the total amount of a contaminant transported by runoff over time. This is often modeled as:\n",
    "\n"
   ],
   "id": "eca48e57c4671282"
  },
  {
   "metadata": {},
   "cell_type": "markdown",
   "source": [
    "$$\n",
    "L(t) = Q(t) * C(t)\n",
    "$$"
   ],
   "id": "64c1e96fc13005ec"
  },
  {
   "metadata": {},
   "cell_type": "markdown",
   "source": [
    "\n",
    "Where:\n",
    "- `L(t)` = pollutant load (mg/s or kg/day)\n",
    "- `Q(t)` = flow rate (e.g., cubic feet per second, cfs)\n",
    "- `C(t)` = concentration of the pollutant in the water (e.g., mg/L)\n",
    "\n",
    "Both `Q(t)` and `C(t)` typically vary over time during a storm event, so we must use the **product rule** to compute how pollutant load changes.\n",
    "\n",
    "---\n",
    "\n",
    "## 💧 Scenario: Modeling a Storm Event\n",
    "\n",
    "You’re working for the City of Rivendale on a stormwater quality model. During a typical storm event:\n",
    "\n",
    "- Flow rate increases over time as more runoff enters the system\n",
    "- Pollutant concentration decreases over time as initial high concentrations are diluted\n",
    "\n",
    "The engineers provide these simplified models:\n",
    "\n"
   ],
   "id": "e67d5fada63b7554"
  },
  {
   "metadata": {},
   "cell_type": "markdown",
   "source": [
    "- Q(t) = 3t # Flow increases linearly (cfs)\n",
    "- C(t) = 10 - 0.2t # Concentration decreases over time (mg/L)"
   ],
   "id": "7a948d6ba7f5647f"
  },
  {
   "metadata": {},
   "cell_type": "markdown",
   "source": [
    "\n",
    "---\n",
    "\n",
    "## ✏️ Math Setup\n",
    "\n",
    "Given:\n",
    "\n"
   ],
   "id": "431d058d2e7b6663"
  },
  {
   "metadata": {},
   "cell_type": "markdown",
   "source": [
    "$$\n",
    "L(t) = Q(t) * C(t)\n",
    "$$\n",
    "$$\n",
    "=> 3t * (10 - 0.2t)\n",
    "$$"
   ],
   "id": "4f0b18d7db1ee806"
  },
  {
   "metadata": {},
   "cell_type": "markdown",
   "source": [
    "\n",
    "Apply the **product rule**:\n",
    "\n",
    "If `L(t) = f(t) * g(t)`, then:\n",
    "\n"
   ],
   "id": "735c95d3b99b0ec6"
  },
  {
   "metadata": {},
   "cell_type": "markdown",
   "source": [
    "$$\n",
    "L'(t) = f'(t) * g(t) + f(t) * g'(t)\n",
    "$$"
   ],
   "id": "8a1e0690b2bb86f9"
  },
  {
   "metadata": {},
   "cell_type": "markdown",
   "source": [
    "\n",
    "In this case:\n",
    "\n",
    "- `f(t) = Q(t) = 3t`,  so `f'(t) = 3`\n",
    "- `g(t) = C(t) = 10 - 0.2t`,  so `g'(t) = -0.2`\n",
    "\n",
    "---\n",
    "\n",
    "## 🐍 Python Implementation Prompt\n",
    "\n",
    "Use `SymPy` to:\n",
    "\n",
    "1. Define symbolic functions for `Q(t)` and `C(t)`\n",
    "2. Compute `L(t)` and its derivative `L'(t)`\n",
    "3. Plot both `L(t)` and `L'(t)` over the interval `t ∈ [0, 20]`\n",
    "\n",
    "```python\n",
    "import sympy as sp\n",
    "\n",
    "t = sp.Symbol('t')\n",
    "Q = 3 * t\n",
    "C = 10 - 0.2 * t\n",
    "L = Q * C\n",
    "L_prime = sp.diff(L, t)\n",
    "\n",
    "# Optional: convert to numerical function for plotting\n",
    "L_func = sp.lambdify(t, L, 'numpy')\n",
    "L_prime_func = sp.lambdify(t, L_prime, 'numpy')\n"
   ],
   "id": "878e5c081c087c27"
  },
  {
   "metadata": {},
   "cell_type": "code",
   "outputs": [],
   "execution_count": null,
   "source": "",
   "id": "20a143d3ebf0bec5"
  }
 ],
 "metadata": {
  "kernelspec": {
   "display_name": "Python 3",
   "language": "python",
   "name": "python3"
  },
  "language_info": {
   "codemirror_mode": {
    "name": "ipython",
    "version": 2
   },
   "file_extension": ".py",
   "mimetype": "text/x-python",
   "name": "python",
   "nbconvert_exporter": "python",
   "pygments_lexer": "ipython2",
   "version": "2.7.6"
  }
 },
 "nbformat": 4,
 "nbformat_minor": 5
}
