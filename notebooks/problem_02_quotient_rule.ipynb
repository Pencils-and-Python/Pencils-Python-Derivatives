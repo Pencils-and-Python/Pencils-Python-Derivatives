{
 "cells": [
  {
   "metadata": {},
   "cell_type": "markdown",
   "source": [
    "## 📌 Problem 2 – Quotient Rule\n",
    "\n",
    "Differentiate:\n",
    "\n",
    "$$\n",
    "g(x) = \\frac{x^2 + 1}{x \\cdot \\cos x}\n",
    "$$\n",
    "\n",
    "Use the quotient rule:\n",
    "\n",
    "$$\n",
    "\\frac{d}{dx}\\left[\\frac{u}{v}\\right] = \\frac{u'v - uv'}{v^2}\n",
    "$$\n",
    "\n",
    "---"
   ],
   "id": "2097bd70b90b3aa0"
  },
  {
   "metadata": {},
   "cell_type": "code",
   "outputs": [],
   "execution_count": null,
   "source": "",
   "id": "a0b8ad745e9205f0"
  }
 ],
 "metadata": {
  "kernelspec": {
   "display_name": "Python 3",
   "language": "python",
   "name": "python3"
  },
  "language_info": {
   "codemirror_mode": {
    "name": "ipython",
    "version": 2
   },
   "file_extension": ".py",
   "mimetype": "text/x-python",
   "name": "python",
   "nbconvert_exporter": "python",
   "pygments_lexer": "ipython2",
   "version": "2.7.6"
  }
 },
 "nbformat": 4,
 "nbformat_minor": 5
}
