{
 "cells": [
  {
   "metadata": {},
   "cell_type": "markdown",
   "source": [
    "# 🧮 Product Rule in Action: Revenue Optimization\n",
    "\n",
    "## 📚 Concept\n",
    "\n",
    "In business and economics, **total revenue** is often calculated as:\n",
    "\n"
   ],
   "id": "2de6be6188cb58fa"
  },
  {
   "metadata": {},
   "cell_type": "markdown",
   "source": [
    "$$\n",
    "R(x) = p(x) * x\n",
    "$$"
   ],
   "id": "ae947221cb1b53c2"
  },
  {
   "metadata": {},
   "cell_type": "markdown",
   "source": [
    "\n",
    "Where:\n",
    "- `x` = number of units sold\n",
    "- `p(x)` = price per unit, which may decrease as more units are sold (due to discounts or demand elasticity)\n",
    "\n",
    "The **product rule** is essential here because both price and quantity are changing with respect to `x`.\n",
    "\n",
    "---\n",
    "\n",
    "## 🏦 Scenario: Dynamic Pricing Strategy\n",
    "\n",
    "A company sells enchanted swords. To encourage bulk purchases, they use a dynamic pricing model:\n",
    "\n"
   ],
   "id": "60c5ace1d1f41d5b"
  },
  {
   "metadata": {},
   "cell_type": "markdown",
   "source": [
    "$$\n",
    "p(x) = 100 - 0.5x\n",
    "$$"
   ],
   "id": "37ed4c77f7122bd5"
  },
  {
   "metadata": {},
   "cell_type": "markdown",
   "source": [
    "\n",
    "So the revenue function becomes:\n",
    "\n"
   ],
   "id": "8665a021a0423fb1"
  },
  {
   "metadata": {},
   "cell_type": "markdown",
   "source": [
    "$$\n",
    "R(x) = x * (100 - 0.5x)\n",
    "$$"
   ],
   "id": "c4e43a366f576383"
  },
  {
   "metadata": {},
   "cell_type": "markdown",
   "source": [
    "\n",
    "You are tasked with finding:\n",
    "1. The derivative of revenue with respect to units sold, `R'(x)`\n",
    "2. The quantity `x` that maximizes revenue\n",
    "3. A visualization of revenue and marginal revenue over the domain `x ∈ [0, 200]`\n",
    "\n",
    "---\n",
    "\n",
    "## ✏️ Math Setup\n",
    "\n",
    "Using the **product rule**:\n",
    "\n",
    "If `R(x) = f(x) * g(x)`, then:\n",
    "\n"
   ],
   "id": "d8dd498d1b23f1de"
  },
  {
   "metadata": {},
   "cell_type": "markdown",
   "source": [
    "$$\n",
    "R'(x) = f'(x) * g(x) + f(x) * g'(x)\n",
    "$$"
   ],
   "id": "f0ca6cc5eabc546f"
  },
  {
   "metadata": {},
   "cell_type": "markdown",
   "source": [
    "\n",
    "Apply this to:\n",
    "\n",
    "- `f(x) = x`\n",
    "- `g(x) = 100 - 0.5x`\n",
    "\n",
    "---\n",
    "\n",
    "## 🐍 Python Implementation Prompt\n",
    "\n",
    "Use `SymPy` to:\n",
    "\n",
    "1. Define symbolic expressions for `x`, `p(x)`, and `R(x)`\n",
    "2. Compute the derivative `R'(x)`\n",
    "3. Solve for critical points where `R'(x) = 0`\n",
    "4. Plot `R(x)` and `R'(x)` using `matplotlib` or `SymPy.plot`\n",
    "\n",
    "```python\n",
    "import sympy as sp\n",
    "\n",
    "x = sp.Symbol('x')\n",
    "p = 100 - 0.5*x\n",
    "R = x * p\n",
    "R_prime = sp.diff(R, x)\n",
    "\n",
    "# Solve R'(x) = 0 to find revenue-maximizing quantity\n",
    "critical_points = sp.solve(R_prime, x)\n"
   ],
   "id": "b5ba0ed4c3a76cf5"
  },
  {
   "metadata": {},
   "cell_type": "code",
   "outputs": [],
   "execution_count": null,
   "source": "",
   "id": "a01337fa89f1fdb"
  }
 ],
 "metadata": {
  "kernelspec": {
   "display_name": "Python 3",
   "language": "python",
   "name": "python3"
  },
  "language_info": {
   "codemirror_mode": {
    "name": "ipython",
    "version": 2
   },
   "file_extension": ".py",
   "mimetype": "text/x-python",
   "name": "python",
   "nbconvert_exporter": "python",
   "pygments_lexer": "ipython2",
   "version": "2.7.6"
  }
 },
 "nbformat": 4,
 "nbformat_minor": 5
}
